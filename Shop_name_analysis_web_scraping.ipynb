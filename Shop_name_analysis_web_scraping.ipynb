{
 "cells": [
  {
   "cell_type": "code",
   "execution_count": 1,
   "metadata": {},
   "outputs": [],
   "source": [
    "import selenium\n",
    "from selenium import webdriver\n",
    "from selenium.webdriver.chrome.service import Service\n",
    "import requests\n",
    "import pandas as pd\n",
    "from bs4 import BeautifulSoup\n",
    "\n",
    "#import webdriver\n",
    "# This is the path I use\n",
    "# DRIVER_PATH = '.../Desktop/Scraping/chromedriver 2'\n",
    "# Put the path for your ChromeDriver here\n",
    "#DRIVER_PATH =r'C:\\Users\\hp\\Downloads\\chromedriver_win32\\chromedriver'\n",
    "DRIVER_PATH= r'.\\Downloads\\chromedriver-win64\\chromedriver'\n",
    "service = Service(executable_path=DRIVER_PATH)\n",
    "options = webdriver.ChromeOptions()\n",
    "#DRIVER_PATH =r'C:\\Users\\hp\\Downloads\\chromedriver-win64\\chromedriver'\n",
    "\n",
    "wd = webdriver.Chrome(service=service, options=options)\n",
    "#wd.get('https://google.com')"
   ]
  },
  {
   "cell_type": "code",
   "execution_count": 4,
   "metadata": {},
   "outputs": [
    {
     "data": {
      "text/plain": [
       "'C:\\\\Users\\\\hp'"
      ]
     },
     "execution_count": 4,
     "metadata": {},
     "output_type": "execute_result"
    }
   ],
   "source": [
    "pwd"
   ]
  },
  {
   "cell_type": "code",
   "execution_count": 1,
   "metadata": {},
   "outputs": [
    {
     "name": "stdout",
     "output_type": "stream",
     "text": [
      "C:\\ProgramData\\anaconda3;C:\\ProgramData\\anaconda3\\Library\\mingw-w64\\bin;C:\\ProgramData\\anaconda3\\Library\\usr\\bin;C:\\ProgramData\\anaconda3\\Library\\bin;C:\\ProgramData\\anaconda3\\Scripts;C:\\ProgramData\\anaconda3\\bin;C:\\ProgramData\\anaconda3\\condabin;C:\\ProgramData\\anaconda3;C:\\ProgramData\\anaconda3\\Library\\mingw-w64\\bin;C:\\ProgramData\\anaconda3\\Library\\usr\\bin;C:\\ProgramData\\anaconda3\\Library\\bin;C:\\ProgramData\\anaconda3\\Scripts;C:\\Windows\\system32;C:\\Windows;C:\\Windows\\System32\\Wbem;C:\\Windows\\System32\\WindowsPowerShell\\v1.0;C:\\Users\\hp\\Downloads\\chromedriver-win64\\chromedriver\n"
     ]
    }
   ],
   "source": [
    "echo %PATH%"
   ]
  },
  {
   "cell_type": "code",
   "execution_count": 13,
   "metadata": {},
   "outputs": [
    {
     "ename": "NameError",
     "evalue": "name 'version' is not defined",
     "output_type": "error",
     "traceback": [
      "\u001b[1;31m---------------------------------------------------------------------------\u001b[0m",
      "\u001b[1;31mNameError\u001b[0m                                 Traceback (most recent call last)",
      "Cell \u001b[1;32mIn[13], line 1\u001b[0m\n\u001b[1;32m----> 1\u001b[0m wd \u001b[38;5;241m-\u001b[39m\u001b[38;5;241m-\u001b[39mversion\n",
      "\u001b[1;31mNameError\u001b[0m: name 'version' is not defined"
     ]
    }
   ],
   "source": [
    "wd --version"
   ]
  },
  {
   "cell_type": "code",
   "execution_count": 5,
   "metadata": {},
   "outputs": [
    {
     "data": {
      "text/plain": [
       "'4.6.0'"
      ]
     },
     "execution_count": 5,
     "metadata": {},
     "output_type": "execute_result"
    }
   ],
   "source": [
    "selenium.__version__"
   ]
  },
  {
   "cell_type": "code",
   "execution_count": 5,
   "metadata": {},
   "outputs": [
    {
     "name": "stdout",
     "output_type": "stream",
     "text": [
      "Defaulting to user installation because normal site-packages is not writeableNote: you may need to restart the kernel to use updated packages.\n",
      "\n",
      "Collecting selenium==4.6\n",
      "  Downloading selenium-4.6.0-py3-none-any.whl.metadata (7.1 kB)\n",
      "Collecting urllib3~=1.26 (from urllib3[socks]~=1.26->selenium==4.6)\n",
      "  Downloading urllib3-1.26.18-py2.py3-none-any.whl.metadata (48 kB)\n",
      "     ---------------------------------------- 0.0/48.9 kB ? eta -:--:--\n",
      "     --------------- ---------------------- 20.5/48.9 kB 682.7 kB/s eta 0:00:01\n",
      "     ------------------------------- ------ 41.0/48.9 kB 653.6 kB/s eta 0:00:01\n",
      "     -------------------------------------- 48.9/48.9 kB 354.8 kB/s eta 0:00:00\n",
      "Requirement already satisfied: trio~=0.17 in c:\\users\\hp\\appdata\\roaming\\python\\python311\\site-packages (from selenium==4.6) (0.25.0)\n",
      "Requirement already satisfied: trio-websocket~=0.9 in c:\\users\\hp\\appdata\\roaming\\python\\python311\\site-packages (from selenium==4.6) (0.11.1)\n",
      "Requirement already satisfied: certifi>=2021.10.8 in c:\\programdata\\anaconda3\\lib\\site-packages (from selenium==4.6) (2024.2.2)\n",
      "Requirement already satisfied: attrs>=23.2.0 in c:\\users\\hp\\appdata\\roaming\\python\\python311\\site-packages (from trio~=0.17->selenium==4.6) (23.2.0)\n",
      "Requirement already satisfied: sortedcontainers in c:\\programdata\\anaconda3\\lib\\site-packages (from trio~=0.17->selenium==4.6) (2.4.0)\n",
      "Requirement already satisfied: idna in c:\\programdata\\anaconda3\\lib\\site-packages (from trio~=0.17->selenium==4.6) (3.4)\n",
      "Requirement already satisfied: outcome in c:\\users\\hp\\appdata\\roaming\\python\\python311\\site-packages (from trio~=0.17->selenium==4.6) (1.3.0.post0)\n",
      "Requirement already satisfied: sniffio>=1.3.0 in c:\\programdata\\anaconda3\\lib\\site-packages (from trio~=0.17->selenium==4.6) (1.3.0)\n",
      "Requirement already satisfied: cffi>=1.14 in c:\\programdata\\anaconda3\\lib\\site-packages (from trio~=0.17->selenium==4.6) (1.16.0)\n",
      "Requirement already satisfied: wsproto>=0.14 in c:\\users\\hp\\appdata\\roaming\\python\\python311\\site-packages (from trio-websocket~=0.9->selenium==4.6) (1.2.0)\n",
      "Requirement already satisfied: PySocks!=1.5.7,<2.0,>=1.5.6 in c:\\programdata\\anaconda3\\lib\\site-packages (from urllib3[socks]~=1.26->selenium==4.6) (1.7.1)\n",
      "Requirement already satisfied: pycparser in c:\\programdata\\anaconda3\\lib\\site-packages (from cffi>=1.14->trio~=0.17->selenium==4.6) (2.21)\n",
      "Requirement already satisfied: h11<1,>=0.9.0 in c:\\users\\hp\\appdata\\roaming\\python\\python311\\site-packages (from wsproto>=0.14->trio-websocket~=0.9->selenium==4.6) (0.14.0)\n",
      "Downloading selenium-4.6.0-py3-none-any.whl (5.2 MB)\n",
      "   ---------------------------------------- 0.0/5.2 MB ? eta -:--:--\n",
      "    --------------------------------------- 0.1/5.2 MB 2.6 MB/s eta 0:00:02\n",
      "   - -------------------------------------- 0.2/5.2 MB 1.8 MB/s eta 0:00:03\n",
      "   - -------------------------------------- 0.2/5.2 MB 1.7 MB/s eta 0:00:03\n",
      "   -- ------------------------------------- 0.3/5.2 MB 1.5 MB/s eta 0:00:04\n",
      "   -- ------------------------------------- 0.3/5.2 MB 1.5 MB/s eta 0:00:04\n",
      "   -- ------------------------------------- 0.3/5.2 MB 983.9 kB/s eta 0:00:06\n",
      "   -- ------------------------------------- 0.4/5.2 MB 1.2 MB/s eta 0:00:04\n",
      "   --- ------------------------------------ 0.4/5.2 MB 1.1 MB/s eta 0:00:05\n",
      "   --- ------------------------------------ 0.4/5.2 MB 1.0 MB/s eta 0:00:05\n",
      "   --- ------------------------------------ 0.5/5.2 MB 1.0 MB/s eta 0:00:05\n",
      "   ---- ----------------------------------- 0.6/5.2 MB 1.1 MB/s eta 0:00:05\n",
      "   ---- ----------------------------------- 0.6/5.2 MB 1.1 MB/s eta 0:00:05\n",
      "   ----- ---------------------------------- 0.7/5.2 MB 1.1 MB/s eta 0:00:05\n",
      "   ----- ---------------------------------- 0.8/5.2 MB 1.2 MB/s eta 0:00:04\n",
      "   ------ --------------------------------- 0.8/5.2 MB 1.1 MB/s eta 0:00:04\n",
      "   ------ --------------------------------- 0.9/5.2 MB 1.1 MB/s eta 0:00:04\n",
      "   ------- -------------------------------- 1.0/5.2 MB 1.2 MB/s eta 0:00:04\n",
      "   ------- -------------------------------- 1.0/5.2 MB 1.2 MB/s eta 0:00:04\n",
      "   -------- ------------------------------- 1.1/5.2 MB 1.2 MB/s eta 0:00:04\n",
      "   -------- ------------------------------- 1.1/5.2 MB 1.2 MB/s eta 0:00:04\n",
      "   --------- ------------------------------ 1.2/5.2 MB 1.2 MB/s eta 0:00:04\n",
      "   --------- ------------------------------ 1.3/5.2 MB 1.2 MB/s eta 0:00:04\n",
      "   ---------- ----------------------------- 1.3/5.2 MB 1.2 MB/s eta 0:00:04\n",
      "   ---------- ----------------------------- 1.4/5.2 MB 1.2 MB/s eta 0:00:04\n",
      "   ----------- ---------------------------- 1.5/5.2 MB 1.2 MB/s eta 0:00:04\n",
      "   ----------- ---------------------------- 1.5/5.2 MB 1.2 MB/s eta 0:00:04\n",
      "   ------------ --------------------------- 1.6/5.2 MB 1.2 MB/s eta 0:00:03\n",
      "   ------------ --------------------------- 1.7/5.2 MB 1.2 MB/s eta 0:00:03\n",
      "   ------------- -------------------------- 1.7/5.2 MB 1.2 MB/s eta 0:00:03\n",
      "   ------------- -------------------------- 1.8/5.2 MB 1.2 MB/s eta 0:00:03\n",
      "   -------------- ------------------------- 1.9/5.2 MB 1.2 MB/s eta 0:00:03\n",
      "   -------------- ------------------------- 1.9/5.2 MB 1.2 MB/s eta 0:00:03\n",
      "   --------------- ------------------------ 2.0/5.2 MB 1.2 MB/s eta 0:00:03\n",
      "   --------------- ------------------------ 2.0/5.2 MB 1.2 MB/s eta 0:00:03\n",
      "   ---------------- ----------------------- 2.1/5.2 MB 1.2 MB/s eta 0:00:03\n",
      "   ---------------- ----------------------- 2.2/5.2 MB 1.3 MB/s eta 0:00:03\n",
      "   ----------------- ---------------------- 2.3/5.2 MB 1.3 MB/s eta 0:00:03\n",
      "   ------------------ --------------------- 2.4/5.2 MB 1.3 MB/s eta 0:00:03\n",
      "   ------------------ --------------------- 2.5/5.2 MB 1.3 MB/s eta 0:00:03\n",
      "   ------------------- -------------------- 2.5/5.2 MB 1.3 MB/s eta 0:00:03\n",
      "   -------------------- ------------------- 2.7/5.2 MB 1.3 MB/s eta 0:00:03\n",
      "   -------------------- ------------------- 2.7/5.2 MB 1.3 MB/s eta 0:00:02\n",
      "   --------------------- ------------------ 2.8/5.2 MB 1.3 MB/s eta 0:00:02\n",
      "   --------------------- ------------------ 2.8/5.2 MB 1.3 MB/s eta 0:00:02\n",
      "   ---------------------- ----------------- 2.9/5.2 MB 1.3 MB/s eta 0:00:02\n",
      "   ---------------------- ----------------- 2.9/5.2 MB 1.3 MB/s eta 0:00:02\n",
      "   ---------------------- ----------------- 3.0/5.2 MB 1.3 MB/s eta 0:00:02\n",
      "   ----------------------- ---------------- 3.1/5.2 MB 1.3 MB/s eta 0:00:02\n",
      "   ----------------------- ---------------- 3.1/5.2 MB 1.3 MB/s eta 0:00:02\n",
      "   ------------------------ --------------- 3.2/5.2 MB 1.3 MB/s eta 0:00:02\n",
      "   ------------------------ --------------- 3.3/5.2 MB 1.3 MB/s eta 0:00:02\n",
      "   ------------------------ --------------- 3.3/5.2 MB 1.3 MB/s eta 0:00:02\n",
      "   ------------------------- -------------- 3.4/5.2 MB 1.3 MB/s eta 0:00:02\n",
      "   -------------------------- ------------- 3.4/5.2 MB 1.3 MB/s eta 0:00:02\n",
      "   -------------------------- ------------- 3.5/5.2 MB 1.3 MB/s eta 0:00:02\n",
      "   --------------------------- ------------ 3.5/5.2 MB 1.3 MB/s eta 0:00:02\n",
      "   --------------------------- ------------ 3.6/5.2 MB 1.3 MB/s eta 0:00:02\n",
      "   ---------------------------- ----------- 3.7/5.2 MB 1.3 MB/s eta 0:00:02\n",
      "   ---------------------------- ----------- 3.7/5.2 MB 1.3 MB/s eta 0:00:02\n",
      "   ---------------------------- ----------- 3.8/5.2 MB 1.3 MB/s eta 0:00:02\n",
      "   ----------------------------- ---------- 3.9/5.2 MB 1.3 MB/s eta 0:00:02\n",
      "   ----------------------------- ---------- 3.9/5.2 MB 1.3 MB/s eta 0:00:02\n",
      "   ----------------------------- ---------- 3.9/5.2 MB 1.3 MB/s eta 0:00:02\n",
      "   ----------------------------- ---------- 3.9/5.2 MB 1.3 MB/s eta 0:00:02\n",
      "   ------------------------------ --------- 4.0/5.2 MB 1.2 MB/s eta 0:00:02\n",
      "   ------------------------------ --------- 4.0/5.2 MB 1.2 MB/s eta 0:00:01\n",
      "   ------------------------------- -------- 4.0/5.2 MB 1.2 MB/s eta 0:00:01\n",
      "   ------------------------------- -------- 4.1/5.2 MB 1.2 MB/s eta 0:00:01\n",
      "   -------------------------------- ------- 4.2/5.2 MB 1.2 MB/s eta 0:00:01\n",
      "   -------------------------------- ------- 4.2/5.2 MB 1.2 MB/s eta 0:00:01\n",
      "   --------------------------------- ------ 4.3/5.2 MB 1.2 MB/s eta 0:00:01\n",
      "   --------------------------------- ------ 4.4/5.2 MB 1.2 MB/s eta 0:00:01\n",
      "   --------------------------------- ------ 4.4/5.2 MB 1.2 MB/s eta 0:00:01\n",
      "   ---------------------------------- ----- 4.5/5.2 MB 1.2 MB/s eta 0:00:01\n",
      "   ---------------------------------- ----- 4.5/5.2 MB 1.2 MB/s eta 0:00:01\n",
      "   ----------------------------------- ---- 4.6/5.2 MB 1.2 MB/s eta 0:00:01\n",
      "   ----------------------------------- ---- 4.6/5.2 MB 1.2 MB/s eta 0:00:01\n",
      "   ------------------------------------ --- 4.7/5.2 MB 1.2 MB/s eta 0:00:01\n",
      "   ------------------------------------ --- 4.8/5.2 MB 1.2 MB/s eta 0:00:01\n",
      "   ------------------------------------- -- 4.8/5.2 MB 1.2 MB/s eta 0:00:01\n",
      "   ------------------------------------- -- 4.9/5.2 MB 1.2 MB/s eta 0:00:01\n",
      "   ------------------------------------- -- 4.9/5.2 MB 1.2 MB/s eta 0:00:01\n",
      "   -------------------------------------- - 5.0/5.2 MB 1.2 MB/s eta 0:00:01\n",
      "   -------------------------------------- - 5.1/5.2 MB 1.2 MB/s eta 0:00:01\n",
      "   ---------------------------------------  5.1/5.2 MB 1.2 MB/s eta 0:00:01\n",
      "   ---------------------------------------  5.2/5.2 MB 1.2 MB/s eta 0:00:01\n",
      "   ---------------------------------------  5.2/5.2 MB 1.2 MB/s eta 0:00:01\n",
      "   ---------------------------------------  5.2/5.2 MB 1.2 MB/s eta 0:00:01\n",
      "   ---------------------------------------  5.2/5.2 MB 1.2 MB/s eta 0:00:01\n",
      "   ---------------------------------------  5.2/5.2 MB 1.2 MB/s eta 0:00:01\n",
      "   ---------------------------------------- 5.2/5.2 MB 1.2 MB/s eta 0:00:00\n",
      "Downloading urllib3-1.26.18-py2.py3-none-any.whl (143 kB)\n",
      "   ---------------------------------------- 0.0/143.8 kB ? eta -:--:--\n",
      "   ------------------- -------------------- 71.7/143.8 kB 2.0 MB/s eta 0:00:01\n",
      "   ---------------------------------------  143.4/143.8 kB 1.7 MB/s eta 0:00:01\n",
      "   ---------------------------------------- 143.8/143.8 kB 1.1 MB/s eta 0:00:00\n",
      "Installing collected packages: urllib3, selenium\n",
      "  Attempting uninstall: selenium\n",
      "    Found existing installation: selenium 4.19.0\n",
      "    Uninstalling selenium-4.19.0:\n",
      "      Successfully uninstalled selenium-4.19.0\n",
      "Successfully installed selenium-4.6.0 urllib3-1.26.18\n"
     ]
    }
   ],
   "source": [
    "pip install selenium==4.6"
   ]
  },
  {
   "cell_type": "code",
   "execution_count": 2,
   "metadata": {},
   "outputs": [],
   "source": [
    "wd.get('https://google.com')"
   ]
  },
  {
   "cell_type": "code",
   "execution_count": 3,
   "metadata": {},
   "outputs": [],
   "source": [
    "from selenium.webdriver.common.by import By\n",
    "\n",
    "#search_box = wd.find_element_by_css_selector('input.gLFyf')\n",
    "#search_box = wd.find_element(By.xpath(\"(//input[@id='search-text'])[2]\")).sendKeys(\"Shop name boards\")\n",
    "#search_box = wd.find_element_by_xpath('//*[@id=\"sbtc\"]/div/div[2]/input')\n",
    "#search_box = wd.find_element_by_name('q')\n",
    "\n",
    "search_box= wd.find_element(By.CSS_SELECTOR,\"textarea[id='APjFqb']\")\n",
    "\n",
    "\n",
    "#search_box= wd.FindElement(By.Name(\"q\")).SendKeys(\"gbqfq\");\n",
    "\n",
    "search_box.send_keys('Shop name boards in malls')"
   ]
  },
  {
   "cell_type": "code",
   "execution_count": 52,
   "metadata": {},
   "outputs": [],
   "source": [
    "elements = wd.find_elements(By.XPATH, \"//*[@id='ctl00_ContentPlaceHolder1_Control1_lstCategory']//input\")\n",
    "\n",
    "for element in elements:\n",
    "    print(element.get_attribute(\"id\"))     # for getting id of each element\n",
    "    print(element.text)                    # for getting text of each element"
   ]
  },
  {
   "cell_type": "code",
   "execution_count": 4,
   "metadata": {},
   "outputs": [],
   "source": [
    "wd.quit()"
   ]
  },
  {
   "cell_type": "code",
   "execution_count": 11,
   "metadata": {},
   "outputs": [],
   "source": [
    "\n",
    "def fetch_image_urls(query:str, max_links_to_fetch:int, wd:webdriver, sleep_between_interactions:int=1):\n",
    "    def scroll_to_end(wd):\n",
    "        wd.execute_script(\"window.scrollTo(0, document.body.scrollHeight);\")\n",
    "        time.sleep(sleep_between_interactions)\n",
    "\n",
    "    # build the google query\n",
    "    search_url = \"https://www.google.com/search?q=Shop+name+boards+in+malls&sca_esv=9cf860e71ffe870b&hl=en&authuser=2&biw=1366&bih=568&udm=2&sxsrf=ACQVn08cQQdZcAikw5xlNZ_dPSxYtXXCqA%3A1713383361625&ei=wScgZrztJbL14-EP7caP-AU&ved=0ahUKEwj80Yi1gsqFAxWy-jgGHW3jA18Q4dUDCBA&uact=5&oq=Shop+name+boards&gs_lp=Egxnd3Mtd2l6LXNlcnAaAhgDIhBTaG9wIG5hbWUgYm9hcmRzMgcQIxgnGIsDMgcQIxgnGIsDMg4QABiABBiRAhiKBRiLAzIOEAAYgAQYkQIYigUYiwMyDhAAGIAEGJECGIoFGIsDMgoQABiABBgKGIsDMgoQABiABBgKGIsDMgoQABiABBgKGIsDMgoQABiABBgKGIsDMgoQABiABBgKGIsDSMWHC1DHgAtYhoQLcAV4AJABAJgBkgKgAacDqgEFMC4xLjG4AQPIAQD4AQGYAgegAvQDwgILEAAYFhgKGIsDGB7CAgkQABgWGIsDGB6YAwCIBgGSBwU1LjEuMaAHvxM&sclient=gws-wiz-serp\"\n",
    "    # load the page\n",
    "    wd.get(search_url.format(q=query))\n",
    "\n",
    "    image_urls = set()\n",
    "    image_count = 0\n",
    "    results_start = 0\n",
    "    while image_count < max_links_to_fetch:\n",
    "        scroll_to_end(wd)\n",
    "\n",
    "        # get all image thumbnail results\n",
    "        thumbnail_results = wd.find_elements(By.CSS_SELECTOR, \"g-img[class=mNsIhb]\") #wd.find_elements_by_css_selector(\"img.Q4LuWd\")\n",
    "        #\"div[class='eA0Zlc WghbWd FnEtTd mkpRId m3LIae RLdvSe qyKxnc ivg-i PZPZlf GMCzAd']\"\n",
    "        number_results = len(thumbnail_results)\n",
    "\n",
    "        print(f\"Found: {number_results} search results. Extracting links from {results_start}:{number_results}\")\n",
    "\n",
    "        for img in thumbnail_results[results_start:number_results]:\n",
    "            # try to click every thumbnail such that we can get the real image behind it\n",
    "            try:\n",
    "                img.click()\n",
    "                #print(img)\n",
    "                time.sleep(sleep_between_interactions)\n",
    "            except Exception:\n",
    "                continue\n",
    "\n",
    "            # extract image urls\n",
    "            actual_images = wd.find_elements(By.CSS_SELECTOR, \"img[class=YQ4gaf]\") #wd.find_elements_by_css_selector('img.n3VNCb') \n",
    "            for actual_image in actual_images:\n",
    "                if actual_image.get_attribute('src') and 'http' in actual_image.get_attribute('src'):\n",
    "                    image_urls.add(actual_image.get_attribute('src'))\n",
    "\n",
    "            image_count = len(image_urls)\n",
    "\n",
    "            if len(image_urls) >= max_links_to_fetch:\n",
    "                print(f\"Found: {len(image_urls)} image links, done!\")\n",
    "                break\n",
    "\n",
    "\n",
    "        # move the result startpoint further down\n",
    "        results_start = len(thumbnail_results)\n",
    "\n",
    "    return image_urls"
   ]
  },
  {
   "cell_type": "code",
   "execution_count": 6,
   "metadata": {},
   "outputs": [],
   "source": [
    "import PIL\n",
    "from PIL import Image\n",
    "import os\n",
    "import time\n",
    "import io\n",
    "import hashlib\n",
    "\n",
    "def persist_image(folder_path:str,url:str):\n",
    "    try:\n",
    "        image_content = requests.get(url).content\n",
    "\n",
    "    except Exception as e:\n",
    "        print(f\"ERROR - Could not download {url} - {e}\")\n",
    "\n",
    "    try:\n",
    "        image_file = io.BytesIO(image_content)\n",
    "        image = Image.open(image_file).convert('RGB')\n",
    "        file_path = os.path.join(folder_path,hashlib.sha1(image_content).hexdigest()[:10] + '.jpg')\n",
    "        with open(file_path, 'wb') as f:\n",
    "            image.save(f, \"JPEG\", quality=85)\n",
    "        print(f\"SUCCESS - saved {url} - as {file_path}\")\n",
    "    except Exception as e:\n",
    "        print(f\"ERROR - Could not save {url} - {e}\")"
   ]
  },
  {
   "cell_type": "code",
   "execution_count": 7,
   "metadata": {},
   "outputs": [],
   "source": [
    "def search_and_download(search_term:str,driver_path:str,target_path=r'E:\\Shop_name_analysis\\images2', number_images=10):\n",
    "    target_folder = os.path.join(target_path,'_'.join(search_term.lower().split(' ')))\n",
    "\n",
    "    if not os.path.exists(target_folder):\n",
    "        os.makedirs(target_folder)\n",
    "\n",
    "    with webdriver.Chrome(executable_path=driver_path) as wd:\n",
    "        res = fetch_image_urls(search_term, number_images, wd=wd, sleep_between_interactions=0.5)\n",
    "\n",
    "    for elem in res:\n",
    "        persist_image(target_folder,elem)"
   ]
  },
  {
   "cell_type": "code",
   "execution_count": 10,
   "metadata": {},
   "outputs": [
    {
     "name": "stderr",
     "output_type": "stream",
     "text": [
      "C:\\Users\\hp\\AppData\\Local\\Temp\\ipykernel_8444\\1169279313.py:7: DeprecationWarning: executable_path has been deprecated, please pass in a Service object\n",
      "  with webdriver.Chrome(executable_path=driver_path) as wd:\n"
     ]
    },
    {
     "name": "stdout",
     "output_type": "stream",
     "text": [
      "Found: 78 search results. Extracting links from 0:78\n",
      "Found: 100 image links, done!\n",
      "SUCCESS - saved https://encrypted-tbn0.gstatic.com/images?q=tbn:ANd9GcQJNl8O_SpXvJVLaLEzBRzkNMNj7DfDlUjVAw&s - as E:\\Shop_name_analysis\\images\\shop_name_boards_in_malls\\5d7dd833be.jpg\n",
      "SUCCESS - saved https://encrypted-tbn0.gstatic.com/images?q=tbn:ANd9GcRdKvsM2T84UquMnkC5rKwHWwERdzqHApfhFA&s - as E:\\Shop_name_analysis\\images\\shop_name_boards_in_malls\\d670d5da73.jpg\n",
      "SUCCESS - saved https://encrypted-tbn0.gstatic.com/images?q=tbn:ANd9GcR9nsUI3jNozgXXuh2arBddTGoXDMq1DY-8KQ&s - as E:\\Shop_name_analysis\\images\\shop_name_boards_in_malls\\b04421898b.jpg\n",
      "SUCCESS - saved https://encrypted-tbn0.gstatic.com/images?q=tbn:ANd9GcSCYRMfj7QxYUqVVOwa2XveMoMwO24AaUNipA&s - as E:\\Shop_name_analysis\\images\\shop_name_boards_in_malls\\4ea6d257e5.jpg\n",
      "SUCCESS - saved https://encrypted-tbn0.gstatic.com/images?q=tbn:ANd9GcSD2fYEDbGg_XLU0r1upJ0oQuvZXLfk8rZLSA&s - as E:\\Shop_name_analysis\\images\\shop_name_boards_in_malls\\bb1de71439.jpg\n",
      "SUCCESS - saved https://encrypted-tbn0.gstatic.com/images?q=tbn:ANd9GcTsJuyU_K_Q7f2jlFea4X_Ro9ygtxE2zVbwdA&s - as E:\\Shop_name_analysis\\images\\shop_name_boards_in_malls\\876bd4086d.jpg\n",
      "SUCCESS - saved https://encrypted-tbn0.gstatic.com/images?q=tbn:ANd9GcT6KBRjnoC-adK0CJXkYh6vbyurF9YaG9GLKw&s - as E:\\Shop_name_analysis\\images\\shop_name_boards_in_malls\\64cd14998d.jpg\n",
      "SUCCESS - saved https://encrypted-tbn0.gstatic.com/images?q=tbn:ANd9GcSOAthrBQO2pJTUawpsqVZt4DRqg46yf3XR7w&s - as E:\\Shop_name_analysis\\images\\shop_name_boards_in_malls\\ee6ab363f5.jpg\n",
      "SUCCESS - saved https://encrypted-tbn0.gstatic.com/images?q=tbn:ANd9GcTX_26gGXDplVdYGGW-eYIN7zPpKKCRdCTJ8g&s - as E:\\Shop_name_analysis\\images\\shop_name_boards_in_malls\\17aadc6d37.jpg\n",
      "SUCCESS - saved https://encrypted-tbn0.gstatic.com/images?q=tbn:ANd9GcRVveJYJoXv7Plx6ViVS9qjIoOBA2XmxJOHTw&s - as E:\\Shop_name_analysis\\images\\shop_name_boards_in_malls\\b55da15e2e.jpg\n",
      "SUCCESS - saved https://encrypted-tbn0.gstatic.com/images?q=tbn:ANd9GcRgOjiVz4jyyIEU3wznsi-psA3ZNImTqMzskQ&s - as E:\\Shop_name_analysis\\images\\shop_name_boards_in_malls\\c67bf522c0.jpg\n",
      "SUCCESS - saved https://encrypted-tbn0.gstatic.com/images?q=tbn:ANd9GcR8vWypGgl92nAy-VRrhm7Al8UJXHECOEfavA&s - as E:\\Shop_name_analysis\\images\\shop_name_boards_in_malls\\9eb85afde4.jpg\n",
      "SUCCESS - saved https://encrypted-tbn0.gstatic.com/images?q=tbn:ANd9GcSvCNc6vgnN4qbHk9nRhY84SbE2IJ5sEUGYxQ&s - as E:\\Shop_name_analysis\\images\\shop_name_boards_in_malls\\8d553bcec8.jpg\n",
      "SUCCESS - saved https://encrypted-tbn0.gstatic.com/images?q=tbn:ANd9GcSmtIM5h06RC3yvz9Kh5Ib_PCyCtoPfaNgD2Q&s - as E:\\Shop_name_analysis\\images\\shop_name_boards_in_malls\\4f30e5f8f8.jpg\n",
      "SUCCESS - saved https://encrypted-tbn0.gstatic.com/images?q=tbn:ANd9GcRINoFXksknZ9CCk2VXkG8018TkjGtrzEaVHw&s - as E:\\Shop_name_analysis\\images\\shop_name_boards_in_malls\\d3ea269b9a.jpg\n",
      "SUCCESS - saved https://encrypted-tbn0.gstatic.com/images?q=tbn:ANd9GcQzPCoUJE-KXsFv_SaPpvyNsaV6pSGRyjV_GA&s - as E:\\Shop_name_analysis\\images\\shop_name_boards_in_malls\\03927247f9.jpg\n",
      "SUCCESS - saved https://encrypted-tbn0.gstatic.com/images?q=tbn:ANd9GcQ62BTmKcAZQe74cP_jkMPVvwcnnOiHCiMrqQ&s - as E:\\Shop_name_analysis\\images\\shop_name_boards_in_malls\\68af4445fa.jpg\n",
      "SUCCESS - saved https://encrypted-tbn0.gstatic.com/images?q=tbn:ANd9GcSETO8O4x_-Fqohc9Zzr6PnclCTpK_0HvJXwg&s - as E:\\Shop_name_analysis\\images\\shop_name_boards_in_malls\\4599b9245c.jpg\n",
      "SUCCESS - saved https://encrypted-tbn0.gstatic.com/images?q=tbn:ANd9GcSDJUblW8rGm0S6Lg9OvA91uzgVQEkElXCzVw&s - as E:\\Shop_name_analysis\\images\\shop_name_boards_in_malls\\90442b6cff.jpg\n",
      "SUCCESS - saved https://encrypted-tbn0.gstatic.com/images?q=tbn:ANd9GcRTZYE9_VK1kSe4wTt_INjwRebp9tl8JxhyOA&s - as E:\\Shop_name_analysis\\images\\shop_name_boards_in_malls\\9a71dfbd80.jpg\n",
      "SUCCESS - saved https://encrypted-tbn0.gstatic.com/images?q=tbn:ANd9GcSX1V-2V_p3X9vSaCErXdVnkOSzy7RLoN2FFg&s - as E:\\Shop_name_analysis\\images\\shop_name_boards_in_malls\\2cc8380f3b.jpg\n",
      "SUCCESS - saved https://encrypted-tbn0.gstatic.com/images?q=tbn:ANd9GcTnwwa4WqzwD2aIdrxGZ0R4iHENZbRtggNTiQ&s - as E:\\Shop_name_analysis\\images\\shop_name_boards_in_malls\\8b4a6f551c.jpg\n",
      "SUCCESS - saved https://encrypted-tbn0.gstatic.com/images?q=tbn:ANd9GcSufxy39tIIsXY9ArnREql1N6kQ3Y3KferVdg&s - as E:\\Shop_name_analysis\\images\\shop_name_boards_in_malls\\0b7bc8d801.jpg\n",
      "SUCCESS - saved https://encrypted-tbn0.gstatic.com/images?q=tbn:ANd9GcTtTYekaQg3xp5-RCxqbh0pJSRVlNF-BSDp9w&s - as E:\\Shop_name_analysis\\images\\shop_name_boards_in_malls\\944b0adff3.jpg\n",
      "SUCCESS - saved https://encrypted-tbn0.gstatic.com/images?q=tbn:ANd9GcQNj2P52d0BwSHdoaSA-_ALt_SQN_6sHPyVIA&s - as E:\\Shop_name_analysis\\images\\shop_name_boards_in_malls\\2a9b97c4db.jpg\n",
      "SUCCESS - saved https://encrypted-tbn0.gstatic.com/images?q=tbn:ANd9GcSelQtCXe4O_LBkQucZmhMna_TZKwWmpApGLA&s - as E:\\Shop_name_analysis\\images\\shop_name_boards_in_malls\\944f4e33ca.jpg\n",
      "SUCCESS - saved https://encrypted-tbn0.gstatic.com/images?q=tbn:ANd9GcS2b5RPX5RPXmvLygJnf0jg0VXC5FPKAkqmqQ&s - as E:\\Shop_name_analysis\\images\\shop_name_boards_in_malls\\c1d95c77f8.jpg\n",
      "SUCCESS - saved https://encrypted-tbn0.gstatic.com/images?q=tbn:ANd9GcSXvh9RJljMnEUIQ6kyCn6ItZxowCV_qEfCZg&s - as E:\\Shop_name_analysis\\images\\shop_name_boards_in_malls\\1f256761ff.jpg\n",
      "SUCCESS - saved https://encrypted-tbn0.gstatic.com/images?q=tbn:ANd9GcQaPTRlEuEZqlJ_ljt8q1UA1zzQBI42GFIDQA&s - as E:\\Shop_name_analysis\\images\\shop_name_boards_in_malls\\188a51da27.jpg\n",
      "SUCCESS - saved https://encrypted-tbn0.gstatic.com/images?q=tbn:ANd9GcRoZ3JjbyoZ_E37BFkPk7LBUVN8topRDp_sfQ&s - as E:\\Shop_name_analysis\\images\\shop_name_boards_in_malls\\7bdfbef121.jpg\n",
      "SUCCESS - saved https://encrypted-tbn0.gstatic.com/images?q=tbn:ANd9GcRbI1PFSVaKh3q6fG71VpWE0fxPkvxmgzilbA&s - as E:\\Shop_name_analysis\\images\\shop_name_boards_in_malls\\a4206d529b.jpg\n",
      "SUCCESS - saved https://encrypted-tbn0.gstatic.com/images?q=tbn:ANd9GcSLAfcabOhi7B1thWP9hLfiI0rjfOvhnnWVog&s - as E:\\Shop_name_analysis\\images\\shop_name_boards_in_malls\\bf5005b175.jpg\n",
      "SUCCESS - saved https://encrypted-tbn0.gstatic.com/images?q=tbn:ANd9GcR0ZNTOcJ0dH7Ck1bH8k21cFFvCT4lKljtkgQ&s - as E:\\Shop_name_analysis\\images\\shop_name_boards_in_malls\\693f5e3958.jpg\n",
      "SUCCESS - saved https://encrypted-tbn0.gstatic.com/images?q=tbn:ANd9GcSbz3WLs4MLaPAUn7gtfFk4NuQWDAZ2s-z--Q&s - as E:\\Shop_name_analysis\\images\\shop_name_boards_in_malls\\9db5b8e774.jpg\n",
      "SUCCESS - saved https://encrypted-tbn0.gstatic.com/images?q=tbn:ANd9GcQNDy8JonxrhefsMT0DnWjXGQCEWWwOEBNBfQ&s - as E:\\Shop_name_analysis\\images\\shop_name_boards_in_malls\\2b0ef8b7ae.jpg\n",
      "SUCCESS - saved https://encrypted-tbn0.gstatic.com/images?q=tbn:ANd9GcQkA4D2Y4wWRHahZpASp7S7g4H9aQWrQIk5Cg&s - as E:\\Shop_name_analysis\\images\\shop_name_boards_in_malls\\7994b4a2f8.jpg\n",
      "SUCCESS - saved https://encrypted-tbn0.gstatic.com/images?q=tbn:ANd9GcSQH1T9_4lo7kbtPlZODA99hcCijFeE-f9UXQ&s - as E:\\Shop_name_analysis\\images\\shop_name_boards_in_malls\\87d71bd9b3.jpg\n",
      "SUCCESS - saved https://encrypted-tbn0.gstatic.com/images?q=tbn:ANd9GcQpcZcU0myYCUciiEsGfpqygyi-Bcb0POgmdQ&s - as E:\\Shop_name_analysis\\images\\shop_name_boards_in_malls\\3712d510f4.jpg\n",
      "SUCCESS - saved https://encrypted-tbn0.gstatic.com/images?q=tbn:ANd9GcSQ5WKWbCXsRpbG2fs5nerpxMwmvIJlQWBaCQ&s - as E:\\Shop_name_analysis\\images\\shop_name_boards_in_malls\\65b0d1364a.jpg\n",
      "SUCCESS - saved https://encrypted-tbn0.gstatic.com/images?q=tbn:ANd9GcTFVnRHtsjvhim_pcqB6bI4hMCf5vaX0xnELQ&s - as E:\\Shop_name_analysis\\images\\shop_name_boards_in_malls\\0e4ec40787.jpg\n",
      "SUCCESS - saved https://encrypted-tbn0.gstatic.com/images?q=tbn:ANd9GcQSBM-VwGceiIiK4VCKL9AjqmnBplCGg20I5g&s - as E:\\Shop_name_analysis\\images\\shop_name_boards_in_malls\\8bd0b15948.jpg\n",
      "SUCCESS - saved https://encrypted-tbn0.gstatic.com/images?q=tbn:ANd9GcRN7g-vJr9ltfUjBI1ShQTWQgFtrDXQoI9LVw&s - as E:\\Shop_name_analysis\\images\\shop_name_boards_in_malls\\3fc188740b.jpg\n",
      "SUCCESS - saved https://encrypted-tbn0.gstatic.com/images?q=tbn:ANd9GcQLMQSL4Ug2hdGZvkeGiEq8FH-YNeYNsn4sNQ&s - as E:\\Shop_name_analysis\\images\\shop_name_boards_in_malls\\28a40045da.jpg\n",
      "SUCCESS - saved https://encrypted-tbn0.gstatic.com/images?q=tbn:ANd9GcTeNrkw96bzXVw1XL-MqYU5INJt2HQfDMH2Gw&s - as E:\\Shop_name_analysis\\images\\shop_name_boards_in_malls\\282a96e472.jpg\n",
      "SUCCESS - saved https://encrypted-tbn0.gstatic.com/images?q=tbn:ANd9GcS22UCiGGk941qz298rFamnQ-65MPpTqR2o3Q&s - as E:\\Shop_name_analysis\\images\\shop_name_boards_in_malls\\ce8f552b36.jpg\n",
      "SUCCESS - saved https://encrypted-tbn0.gstatic.com/images?q=tbn:ANd9GcRWn3c5FDdVsyUCwXF9s_WClZdCHnBBrfKWSQ&s - as E:\\Shop_name_analysis\\images\\shop_name_boards_in_malls\\26db002b4d.jpg\n",
      "SUCCESS - saved https://encrypted-tbn0.gstatic.com/images?q=tbn:ANd9GcSJzzKAF9QnfqQpgkv0QLjSfoh7YtUl89YgjQ&s - as E:\\Shop_name_analysis\\images\\shop_name_boards_in_malls\\dd826c8fdd.jpg\n",
      "SUCCESS - saved https://encrypted-tbn0.gstatic.com/images?q=tbn:ANd9GcRmmxcqxmsHvB6cdkrKHu9dfigxW_XErQWJfA&s - as E:\\Shop_name_analysis\\images\\shop_name_boards_in_malls\\32b79821cf.jpg\n",
      "SUCCESS - saved https://encrypted-tbn0.gstatic.com/images?q=tbn:ANd9GcTxJeGT435-pksoOHPIqw9j45TyCs6HDw4lzw&s - as E:\\Shop_name_analysis\\images\\shop_name_boards_in_malls\\6cc4e1f1d7.jpg\n",
      "SUCCESS - saved https://encrypted-tbn0.gstatic.com/images?q=tbn:ANd9GcT7anIsxLr_rcGDpgyZn2TeZx2uY8YjrRw1LA&s - as E:\\Shop_name_analysis\\images\\shop_name_boards_in_malls\\90c9bf39b2.jpg\n",
      "SUCCESS - saved https://encrypted-tbn0.gstatic.com/images?q=tbn:ANd9GcQAfcrhKL_ZEeBmRcMKCm56v1pLXPcs8FiVKA&s - as E:\\Shop_name_analysis\\images\\shop_name_boards_in_malls\\6f3f5f6768.jpg\n",
      "SUCCESS - saved https://encrypted-tbn0.gstatic.com/images?q=tbn:ANd9GcTQxC0Ey5SFfRYP-9jnlcZFOGdxaAOS5BjLLQ&s - as E:\\Shop_name_analysis\\images\\shop_name_boards_in_malls\\f7a42ab3c7.jpg\n",
      "SUCCESS - saved https://encrypted-tbn0.gstatic.com/images?q=tbn:ANd9GcT9_jpZrUMVZ1Az6EzwXSsF-XuO7rjsUZnMuw&s - as E:\\Shop_name_analysis\\images\\shop_name_boards_in_malls\\f887518da9.jpg\n",
      "SUCCESS - saved https://encrypted-tbn0.gstatic.com/images?q=tbn:ANd9GcQiIzAdNp4Nv_j6s_3Msk22wuLQ8FFa-BVTHQ&s - as E:\\Shop_name_analysis\\images\\shop_name_boards_in_malls\\f3e6deb67e.jpg\n",
      "SUCCESS - saved https://encrypted-tbn0.gstatic.com/images?q=tbn:ANd9GcQki9tqS0QhUx7_YZ0qJcjAWuDBBdVt2b68Lg&s - as E:\\Shop_name_analysis\\images\\shop_name_boards_in_malls\\3e7ee69ef3.jpg\n",
      "SUCCESS - saved https://encrypted-tbn0.gstatic.com/images?q=tbn:ANd9GcT3PvpbjyyQEHrmMIrVlNXOacUbIS1uXvr2SA&s - as E:\\Shop_name_analysis\\images\\shop_name_boards_in_malls\\529d9097db.jpg\n",
      "SUCCESS - saved https://encrypted-tbn0.gstatic.com/images?q=tbn:ANd9GcSRFpVJP8-ui7aqsNImhMMIqng9ljZkd4kh-g&s - as E:\\Shop_name_analysis\\images\\shop_name_boards_in_malls\\c1bd355355.jpg\n",
      "SUCCESS - saved https://encrypted-tbn0.gstatic.com/images?q=tbn:ANd9GcSH-IiN6oCNKiqdBDxdtp1MmYo-yr0BSmCoJQ&s - as E:\\Shop_name_analysis\\images\\shop_name_boards_in_malls\\1447ccfce5.jpg\n",
      "SUCCESS - saved https://encrypted-tbn0.gstatic.com/images?q=tbn:ANd9GcTsppDkk6efNggTpXg3c4sjrk3RNU-c49ToBw&s - as E:\\Shop_name_analysis\\images\\shop_name_boards_in_malls\\2e15d5c865.jpg\n",
      "SUCCESS - saved https://encrypted-tbn0.gstatic.com/images?q=tbn:ANd9GcR3iVCwGrJ3u2oyoIceDhVVrzTrbx0woc9R7Q&s - as E:\\Shop_name_analysis\\images\\shop_name_boards_in_malls\\fedab27f12.jpg\n",
      "SUCCESS - saved https://encrypted-tbn0.gstatic.com/images?q=tbn:ANd9GcSKnAF0akcsB2BidZivjaYR8_n7EBtElqQ7RA&s - as E:\\Shop_name_analysis\\images\\shop_name_boards_in_malls\\a03e9b44f3.jpg\n",
      "SUCCESS - saved https://encrypted-tbn0.gstatic.com/images?q=tbn:ANd9GcQNmiU8IYIJvw3ACTpPKuvPb2c8gZUf1Fuxpw&s - as E:\\Shop_name_analysis\\images\\shop_name_boards_in_malls\\aa8207f709.jpg\n",
      "SUCCESS - saved https://encrypted-tbn0.gstatic.com/images?q=tbn:ANd9GcRr6YyYFpx8IvmDe7aVXldK2-TXA8XmJrZ9vA&s - as E:\\Shop_name_analysis\\images\\shop_name_boards_in_malls\\5405e9b017.jpg\n",
      "SUCCESS - saved https://encrypted-tbn0.gstatic.com/images?q=tbn:ANd9GcQPR-AJf20WftKCZe14Ffd5IEdEOXfiAXbB7g&s - as E:\\Shop_name_analysis\\images\\shop_name_boards_in_malls\\ac892fddac.jpg\n",
      "SUCCESS - saved https://encrypted-tbn0.gstatic.com/images?q=tbn:ANd9GcRA7XZ6OCUBw_52mGfSz3zBbL7MO8JwhZ1aow&s - as E:\\Shop_name_analysis\\images\\shop_name_boards_in_malls\\364b888d0d.jpg\n",
      "SUCCESS - saved https://encrypted-tbn0.gstatic.com/images?q=tbn:ANd9GcRjU8ftAn3C9MxK54BdHiA4QVmMAWu7ALQZog&s - as E:\\Shop_name_analysis\\images\\shop_name_boards_in_malls\\32b1555e9e.jpg\n",
      "SUCCESS - saved https://encrypted-tbn0.gstatic.com/images?q=tbn:ANd9GcQp82kYJaqzpI68RXrUQpcRj-yLv4AnSqQ4-Q&s - as E:\\Shop_name_analysis\\images\\shop_name_boards_in_malls\\d22ba536aa.jpg\n",
      "SUCCESS - saved https://encrypted-tbn0.gstatic.com/images?q=tbn:ANd9GcTiCelaZSP1SRl8ymUR9hYS_LswDlRCNdokYQ&s - as E:\\Shop_name_analysis\\images\\shop_name_boards_in_malls\\3459fa7210.jpg\n",
      "SUCCESS - saved https://encrypted-tbn0.gstatic.com/images?q=tbn:ANd9GcR8oEBhuyukzkG4VOrIQD0y1EYV_sT4_HEGdg&s - as E:\\Shop_name_analysis\\images\\shop_name_boards_in_malls\\ac8a4ba3e5.jpg\n",
      "SUCCESS - saved https://encrypted-tbn0.gstatic.com/images?q=tbn:ANd9GcQKgFfQGFx51VUaNPVQttPltyc3uy39eBEMJQ&s - as E:\\Shop_name_analysis\\images\\shop_name_boards_in_malls\\fdc802d0e6.jpg\n",
      "SUCCESS - saved https://encrypted-tbn0.gstatic.com/images?q=tbn:ANd9GcSnl8pUhiQJV0Df5AOYwLXq9EtdkobRHfvHuA&s - as E:\\Shop_name_analysis\\images\\shop_name_boards_in_malls\\aec532e924.jpg\n",
      "SUCCESS - saved https://encrypted-tbn0.gstatic.com/images?q=tbn:ANd9GcQwU_uvEPGJoAV3gCtAyygFSZDj-RdYosWJ9w&s - as E:\\Shop_name_analysis\\images\\shop_name_boards_in_malls\\408700b19c.jpg\n",
      "SUCCESS - saved https://encrypted-tbn0.gstatic.com/images?q=tbn:ANd9GcTB14_-i1LjQN_bLLnwzyvj40d4OyfG0z9xWw&s - as E:\\Shop_name_analysis\\images\\shop_name_boards_in_malls\\1f11e67a07.jpg\n",
      "SUCCESS - saved https://encrypted-tbn0.gstatic.com/images?q=tbn:ANd9GcTqxWet7vGzHud0a0iUwomwDYZm97mJPYoy3Q&s - as E:\\Shop_name_analysis\\images\\shop_name_boards_in_malls\\00c00642bf.jpg\n",
      "SUCCESS - saved https://encrypted-tbn0.gstatic.com/images?q=tbn:ANd9GcSCxyj1lL4cZB8PGO7Y5WZo46spzCGLBmPerA&s - as E:\\Shop_name_analysis\\images\\shop_name_boards_in_malls\\fd523d883e.jpg\n",
      "SUCCESS - saved https://encrypted-tbn0.gstatic.com/images?q=tbn:ANd9GcRUkXCWzFD6Ylj4mFdtZvd41toJSMy-RzCHUA&s - as E:\\Shop_name_analysis\\images\\shop_name_boards_in_malls\\16010fdf6d.jpg\n",
      "SUCCESS - saved https://encrypted-tbn0.gstatic.com/images?q=tbn:ANd9GcRAuJYJ5hKJHM6kICsM-nOUbei53K3_461S5A&s - as E:\\Shop_name_analysis\\images\\shop_name_boards_in_malls\\e308418739.jpg\n",
      "SUCCESS - saved https://encrypted-tbn0.gstatic.com/images?q=tbn:ANd9GcRFS_rGIPB_2uuGtLlLPSe4r2HDQ_y-4YHXhQ&s - as E:\\Shop_name_analysis\\images\\shop_name_boards_in_malls\\76868667c5.jpg\n",
      "ERROR - Could not download https://encrypted-tbn0.gstatic.com/images?q=tbn:ANd9GcSSvd978CQd5NX7I6kEBMKS3wd93_7teNm03g&s - ('Connection aborted.', RemoteDisconnected('Remote end closed connection without response'))\n",
      "ERROR - Could not save https://encrypted-tbn0.gstatic.com/images?q=tbn:ANd9GcSSvd978CQd5NX7I6kEBMKS3wd93_7teNm03g&s - cannot access local variable 'image_content' where it is not associated with a value\n",
      "SUCCESS - saved https://encrypted-tbn0.gstatic.com/images?q=tbn:ANd9GcSigaa5OHHa4o0DLN0MZn9jNoaZyFE5krFRHw&s - as E:\\Shop_name_analysis\\images\\shop_name_boards_in_malls\\8da3ba4ab2.jpg\n",
      "SUCCESS - saved https://encrypted-tbn0.gstatic.com/images?q=tbn:ANd9GcQYM0a1RvxRohkTwLbUZHTFVbQgH5WF4DG-hg&s - as E:\\Shop_name_analysis\\images\\shop_name_boards_in_malls\\145fd686f2.jpg\n",
      "SUCCESS - saved https://encrypted-tbn0.gstatic.com/images?q=tbn:ANd9GcRrqJ2EqnDPkqIjyTTgaYRyp-ItNT_T8eEPeA&s - as E:\\Shop_name_analysis\\images\\shop_name_boards_in_malls\\ed41fdec00.jpg\n",
      "SUCCESS - saved https://encrypted-tbn0.gstatic.com/images?q=tbn:ANd9GcQpUfYWIH90KD7G0evh-lTnOnvMLvfBB_FFUw&s - as E:\\Shop_name_analysis\\images\\shop_name_boards_in_malls\\6fdbb0d56b.jpg\n",
      "SUCCESS - saved https://encrypted-tbn0.gstatic.com/images?q=tbn:ANd9GcSePRCDzMptjHk8kUaqvrjB36MJCYWk5BYqRQ&s - as E:\\Shop_name_analysis\\images\\shop_name_boards_in_malls\\5e06cf3a8a.jpg\n",
      "SUCCESS - saved https://encrypted-tbn0.gstatic.com/images?q=tbn:ANd9GcT-YMhULW0SKbpMjL1IGUU0tuT1vdSha7GsuQ&s - as E:\\Shop_name_analysis\\images\\shop_name_boards_in_malls\\873921cb4c.jpg\n",
      "SUCCESS - saved https://encrypted-tbn0.gstatic.com/images?q=tbn:ANd9GcSOmsaXZnR28q4FConwGKPlYsDtlqqeBLw63A&s - as E:\\Shop_name_analysis\\images\\shop_name_boards_in_malls\\49af268f3e.jpg\n",
      "SUCCESS - saved https://encrypted-tbn0.gstatic.com/images?q=tbn:ANd9GcQk_eRWFFnhy5C52cH8LsIwb2IGDwRTmH6eHw&s - as E:\\Shop_name_analysis\\images\\shop_name_boards_in_malls\\19c938f08f.jpg\n",
      "SUCCESS - saved https://encrypted-tbn0.gstatic.com/images?q=tbn:ANd9GcQBiodCnaj0hH4I4qI-uwCxPFeYwgihr56ucA&s - as E:\\Shop_name_analysis\\images\\shop_name_boards_in_malls\\e09bef7bf0.jpg\n",
      "SUCCESS - saved https://encrypted-tbn0.gstatic.com/images?q=tbn:ANd9GcTpv22Cua62fx5AuE1UvAZk6GWDS_HBR4nIlg&s - as E:\\Shop_name_analysis\\images\\shop_name_boards_in_malls\\9437df3709.jpg\n",
      "SUCCESS - saved https://encrypted-tbn0.gstatic.com/images?q=tbn:ANd9GcRVjXFdi5rKYwpTz-6TzI4V5SgQsZ5fpw-TqA&s - as E:\\Shop_name_analysis\\images\\shop_name_boards_in_malls\\98c068b324.jpg\n",
      "SUCCESS - saved https://encrypted-tbn0.gstatic.com/images?q=tbn:ANd9GcR-HtJbE6syjNGIcFmi-Rd9Z_wl_e5Y5c5pzA&s - as E:\\Shop_name_analysis\\images\\shop_name_boards_in_malls\\802d27b960.jpg\n",
      "ERROR - Could not download https://encrypted-tbn0.gstatic.com/images?q=tbn:ANd9GcTeGDrS9QGFPSnYxkOBKlR5TZQsxHPud5XAAQ&s - ('Connection aborted.', RemoteDisconnected('Remote end closed connection without response'))\n",
      "ERROR - Could not save https://encrypted-tbn0.gstatic.com/images?q=tbn:ANd9GcTeGDrS9QGFPSnYxkOBKlR5TZQsxHPud5XAAQ&s - cannot access local variable 'image_content' where it is not associated with a value\n",
      "SUCCESS - saved https://encrypted-tbn0.gstatic.com/images?q=tbn:ANd9GcQBYaYY5lyiYg48jEDVkrEAIzBJ90eD2MAU0A&s - as E:\\Shop_name_analysis\\images\\shop_name_boards_in_malls\\722daca08f.jpg\n",
      "SUCCESS - saved https://encrypted-tbn0.gstatic.com/images?q=tbn:ANd9GcSfvZ7KwVTBIvQh3QTviai5JSFzX3ghe-dO7w&s - as E:\\Shop_name_analysis\\images\\shop_name_boards_in_malls\\9fb03001d3.jpg\n",
      "SUCCESS - saved https://encrypted-tbn0.gstatic.com/images?q=tbn:ANd9GcRPXnTXyrAOx4ofHJyZa5gFuuLBHuC45_TPEQ&s - as E:\\Shop_name_analysis\\images\\shop_name_boards_in_malls\\915be8b902.jpg\n",
      "SUCCESS - saved https://encrypted-tbn0.gstatic.com/images?q=tbn:ANd9GcQqZBziLxrSU0lIDDeZugx5-imQTnVFQRKTZA&s - as E:\\Shop_name_analysis\\images\\shop_name_boards_in_malls\\b39b046c34.jpg\n",
      "SUCCESS - saved https://encrypted-tbn0.gstatic.com/images?q=tbn:ANd9GcRe78VaZAh72r0WjEGehjTnXsLCNJEkbjALBg&s - as E:\\Shop_name_analysis\\images\\shop_name_boards_in_malls\\132fe9bd35.jpg\n",
      "SUCCESS - saved https://encrypted-tbn0.gstatic.com/images?q=tbn:ANd9GcSKSi5AlbgJ0xzwa1_quOLlLjvhpMt6l3BjKQ&s - as E:\\Shop_name_analysis\\images\\shop_name_boards_in_malls\\5ec8a8088f.jpg\n",
      "SUCCESS - saved https://encrypted-tbn0.gstatic.com/images?q=tbn:ANd9GcTgtM3LmMTAIRNCxFG4KNqQ541hy3nNUzbElQ&s - as E:\\Shop_name_analysis\\images\\shop_name_boards_in_malls\\32247f9be5.jpg\n",
      "SUCCESS - saved https://encrypted-tbn0.gstatic.com/images?q=tbn:ANd9GcQTK7poy36V8dT6MRehKtffvZfGRGqbar8rKA&s - as E:\\Shop_name_analysis\\images\\shop_name_boards_in_malls\\f5b40b35cd.jpg\n"
     ]
    }
   ],
   "source": [
    "search_term= \"Shop name boards in malls\"\n",
    "search_and_download(search_term=search_term, driver_path=DRIVER_PATH)"
   ]
  },
  {
   "cell_type": "code",
   "execution_count": null,
   "metadata": {},
   "outputs": [],
   "source": [
    "search_term= \"Shop name boards in malls\"\n",
    "search_and_download(search_term=search_term, driver_path=DRIVER_PATH)"
   ]
  },
  {
   "cell_type": "code",
   "execution_count": null,
   "metadata": {},
   "outputs": [],
   "source": []
  },
  {
   "cell_type": "code",
   "execution_count": null,
   "metadata": {},
   "outputs": [],
   "source": []
  }
 ],
 "metadata": {
  "kernelspec": {
   "display_name": "Python 3 (ipykernel)",
   "language": "python",
   "name": "python3"
  },
  "language_info": {
   "codemirror_mode": {
    "name": "ipython",
    "version": 3
   },
   "file_extension": ".py",
   "mimetype": "text/x-python",
   "name": "python",
   "nbconvert_exporter": "python",
   "pygments_lexer": "ipython3",
   "version": "3.11.7"
  }
 },
 "nbformat": 4,
 "nbformat_minor": 4
}
